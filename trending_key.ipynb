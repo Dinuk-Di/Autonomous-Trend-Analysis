{
 "cells": [
  {
   "cell_type": "code",
   "execution_count": 5,
   "metadata": {},
   "outputs": [],
   "source": [
    "import ollama\n",
    "\n",
    "def generate_summary(keyword,data,region):\n",
    "    data_json = data.to_json()\n",
    "    prompt = f\"Explain why the keyword '{keyword}' is trending in '{region}' based on the following data:\\n\\n{data_json}\\n\\nInclude possible reasons and relevant context.Make it point form and make it clean to visible\"\n",
    "    response = ollama.chat(\n",
    "        model= \"llama3\",\n",
    "        messages=[{\n",
    "            \"role\": \"user\",\n",
    "            \"content\": prompt\n",
    "        }]\n",
    "    )\n",
    "    return str(response['message']['content'])\n"
   ]
  },
  {
   "cell_type": "code",
   "execution_count": 10,
   "metadata": {},
   "outputs": [
    {
     "name": "stderr",
     "output_type": "stream",
     "text": [
      "/home/dinuk/anaconda3/envs/llama/lib/python3.11/site-packages/gradio/blocks.py:983: UserWarning: Cannot load compact. Caught Exception: 404 Client Error: Not Found for url: https://huggingface.co/api/spaces/compact (Request ID: Root=1-669168ce-5d811818400caab507ab957b;68ab4d2f-cd5f-4b9d-bed9-e3fe1a6e71e5)\n",
      "\n",
      "Sorry, we can't find the page you are looking for.\n",
      "  warnings.warn(f\"Cannot load {theme}. Caught Exception: {str(e)}\")\n"
     ]
    },
    {
     "name": "stdout",
     "output_type": "stream",
     "text": [
      "Running on local URL:  http://127.0.0.1:7867\n",
      "\n",
      "To create a public link, set `share=True` in `launch()`.\n"
     ]
    },
    {
     "data": {
      "text/html": [
       "<div><iframe src=\"http://127.0.0.1:7867/\" width=\"100%\" height=\"500\" allow=\"autoplay; camera; microphone; clipboard-read; clipboard-write;\" frameborder=\"0\" allowfullscreen></iframe></div>"
      ],
      "text/plain": [
       "<IPython.core.display.HTML object>"
      ]
     },
     "metadata": {},
     "output_type": "display_data"
    },
    {
     "data": {
      "text/plain": []
     },
     "execution_count": 10,
     "metadata": {},
     "output_type": "execute_result"
    },
    {
     "name": "stdout",
     "output_type": "stream",
     "text": [
      "Selecting 'Past 5 years'...\n"
     ]
    },
    {
     "name": "stderr",
     "output_type": "stream",
     "text": [
      "No artists with labels found to put in legend.  Note that artists whose label start with an underscore are ignored when legend() is called with no argument.\n",
      "/tmp/ipykernel_1569/1623396940.py:102: UserWarning: FigureCanvasAgg is non-interactive, and thus cannot be shown\n",
      "  plt.show()\n"
     ]
    }
   ],
   "source": [
    "import os\n",
    "import time\n",
    "import pandas as pd\n",
    "import matplotlib.pyplot as plt\n",
    "from selenium import webdriver\n",
    "from selenium.webdriver.common.by import By\n",
    "from selenium.webdriver.common.keys import Keys\n",
    "from selenium.webdriver.chrome.service import Service\n",
    "from selenium.webdriver.chrome.options import Options\n",
    "from webdriver_manager.chrome import ChromeDriverManager\n",
    "from selenium.webdriver.support.ui import WebDriverWait\n",
    "from selenium.webdriver.support import expected_conditions as EC\n",
    "import gradio as gr\n",
    "from openai import OpenAI\n",
    "from selenium import webdriver\n",
    "from selenium.webdriver.chrome.service import Service\n",
    "from selenium.webdriver.chrome.options import Options\n",
    "from webdriver_manager.chrome import ChromeDriverManager\n",
    "from selenium.webdriver.common.by import By\n",
    "from selenium.webdriver.support.ui import WebDriverWait\n",
    "from selenium.webdriver.support import expected_conditions as EC\n",
    "from selenium.webdriver.common.keys import Keys\n",
    "import os\n",
    "import time\n",
    "\n",
    "def download_trends_csv(keyword):\n",
    "    options = Options()\n",
    "    options.add_argument('--disable-gpu')\n",
    "    options.add_argument('--no-sandbox')\n",
    "    options.add_argument(\"--disable-dev-shm-usage\")\n",
    "    prefs = {\"download.default_directory\": os.getcwd()}\n",
    "    options.add_experimental_option(\"prefs\", prefs)\n",
    "    \n",
    "    driver = webdriver.Chrome(service=Service(ChromeDriverManager().install()), options=options)\n",
    "    \n",
    "    try:\n",
    "        driver.get('https://trends.google.com/trends/')\n",
    "        time.sleep(2)\n",
    "        \n",
    "        # Search for the keyword\n",
    "        search_box = WebDriverWait(driver, 10).until(\n",
    "            EC.element_to_be_clickable((By.CSS_SELECTOR, 'input.Fgl6fe-fmcmS-wGMbrd.fnqhWc'))\n",
    "        )\n",
    "        search_box.clear()\n",
    "        search_box.send_keys(keyword)\n",
    "        search_box.send_keys(Keys.RETURN)\n",
    "        time.sleep(2)\n",
    "        \n",
    "        selected_text_element = WebDriverWait(driver, 10).until(\n",
    "            EC.presence_of_element_located((By.CSS_SELECTOR, \"div.hierarchy-select\"))\n",
    "        )\n",
    "        selected_text = selected_text_element.find_element(By.CSS_SELECTOR, \"span\").text\n",
    "        \n",
    "        # Select \"Past 5 years\"\n",
    "        print(\"Selecting 'Past 5 years'...\")\n",
    "        time_picker = driver.find_element(By.CSS_SELECTOR, 'custom-date-picker')\n",
    "        time_picker.click()\n",
    "        past_five_years_option = driver.find_element(By.XPATH, \"//md-option/div[contains(text(), 'Past 5 years')]\")\n",
    "        past_five_years_option.click()\n",
    "        time.sleep(2)\n",
    "\n",
    "        # Check if the line chart component is present\n",
    "        try:\n",
    "            line_chart_component = WebDriverWait(driver, 10).until(\n",
    "                EC.presence_of_element_located((By.CSS_SELECTOR, 'div.line-chart-body-wrapper'))\n",
    "            )\n",
    "        except:\n",
    "            print(\"No data for the specified keyword.\")\n",
    "            return None\n",
    "        \n",
    "        # Identify and click the download button\n",
    "        download_buttons = WebDriverWait(driver, 10).until(\n",
    "            EC.presence_of_all_elements_located((By.CSS_SELECTOR, 'button.widget-actions-item.export'))\n",
    "        )\n",
    "        if line_chart_component and download_buttons:\n",
    "            driver.execute_script(\"arguments[0].scrollIntoView(true);\", download_buttons[0])\n",
    "            driver.execute_script(\"arguments[0].click();\", download_buttons[0])\n",
    "            time.sleep(5)  # Wait for the file to download\n",
    "\n",
    "            # Locate the downloaded file\n",
    "            for file in os.listdir(os.getcwd()):\n",
    "                if file.endswith('.csv'):\n",
    "                    return file, selected_text\n",
    "        else:\n",
    "            return None\n",
    "    \n",
    "    finally:\n",
    "        driver.quit()\n",
    "\n",
    "def plot_trend(data, keyword,region):\n",
    "    xn = data.columns[0]\n",
    "    yn = data.columns[1]\n",
    "    x = data[xn]\n",
    "    y = data[yn]\n",
    "    plt.figure(figsize=(50, 6))\n",
    "    plt.plot(x, y)\n",
    "    plt.title(f'Trend over time for {keyword} in {region}')\n",
    "    plt.xlabel('Date')\n",
    "    plt.ylabel('Interest')  # Rotate x-axis labels for better visibility\n",
    "    plt.legend()\n",
    "    plt.grid(True)\n",
    "    plt.show()\n",
    "    plot_filename = f'{keyword}_in_{region}_trend.png'\n",
    "    plt.savefig(plot_filename)\n",
    "    return plot_filename\n",
    "\n",
    "# def generate_summary(keyword, data):\n",
    "#     data_json = data.to_json()\n",
    "#     prompt = f\"Explain why the keyword '{keyword}' is trending based on the following data:\\n\\n{data_json}\\n\\nInclude possible reasons and relevant context.\"\n",
    "#     completion = client.chat.completions.create(\n",
    "#         model=\"gpt-3.5-turbo-1106\",\n",
    "#         messages=[\n",
    "#             {\"role\": \"user\", \"content\": prompt},\n",
    "#         ]\n",
    "#     )\n",
    "#     return completion.choices[0].message['content']\n",
    "\n",
    "def analyze_trend(keyword):\n",
    "    try:\n",
    "        csv_file, selected_text = download_trends_csv(keyword)\n",
    "        if not csv_file:\n",
    "            return \"No data found for the given keyword.\", None\n",
    "\n",
    "        data = pd.read_csv(csv_file,skiprows=[0])\n",
    "        if data.empty:\n",
    "            return \"No data found for the given keyword.\", None\n",
    "        \n",
    "        plot_filename = plot_trend(data, keyword,selected_text)\n",
    "        summary = generate_summary(keyword, data,selected_text)\n",
    "        \n",
    "        os.remove(csv_file)\n",
    "        \n",
    "        return summary, plot_filename\n",
    "    except Exception as e:\n",
    "        return str(e), None\n",
    "\n",
    "# Gradio interface\n",
    "iface = gr.Interface(\n",
    "    fn=analyze_trend,\n",
    "    inputs=[\"text\"],\n",
    "    outputs=[\"textbox\", \"image\"],\n",
    "    title=\"Google Trends Analysis\",\n",
    "    description=\"Enter a keyword to analyze its trend and get a summary explaining the trend.\",\n",
    "    theme=\"compact\"\n",
    ")\n",
    "\n",
    "# Launch the interface\n",
    "iface.launch()\n"
   ]
  },
  {
   "cell_type": "code",
   "execution_count": null,
   "metadata": {},
   "outputs": [],
   "source": []
  },
  {
   "cell_type": "code",
   "execution_count": null,
   "metadata": {},
   "outputs": [],
   "source": [
    "import pandas as pd\n",
    "data = pd.read_csv(\"/mnt/d/Self_Learning/UpWork/trending/multiTimeline.csv\",skiprows=[0])\n",
    "data.head()\n",
    "print(data.columns[0])\n",
    "xn = data.columns[0]\n",
    "yn = data.columns[1]"
   ]
  },
  {
   "cell_type": "code",
   "execution_count": null,
   "metadata": {},
   "outputs": [],
   "source": [
    "print(yn)"
   ]
  },
  {
   "cell_type": "code",
   "execution_count": null,
   "metadata": {},
   "outputs": [],
   "source": [
    "import matplotlib.pyplot as plt\n",
    "x = data[xn]\n",
    "y = data[yn]\n",
    "print(x)\n",
    "print(y)\n",
    "plt.figure(figsize=(50, 6))\n",
    "plt.plot(x, y)\n",
    "plt.title(f'Trend over time for Cricket')\n",
    "plt.xlabel('Date')\n",
    "plt.ylabel('Interest')  # Rotate x-axis labels for better visibility\n",
    "plt.legend()\n",
    "plt.grid(True)\n",
    "plt.show()"
   ]
  },
  {
   "cell_type": "code",
   "execution_count": null,
   "metadata": {},
   "outputs": [],
   "source": []
  }
 ],
 "metadata": {
  "kernelspec": {
   "display_name": "llama",
   "language": "python",
   "name": "python3"
  },
  "language_info": {
   "codemirror_mode": {
    "name": "ipython",
    "version": 3
   },
   "file_extension": ".py",
   "mimetype": "text/x-python",
   "name": "python",
   "nbconvert_exporter": "python",
   "pygments_lexer": "ipython3",
   "version": "3.11.9"
  }
 },
 "nbformat": 4,
 "nbformat_minor": 2
}
